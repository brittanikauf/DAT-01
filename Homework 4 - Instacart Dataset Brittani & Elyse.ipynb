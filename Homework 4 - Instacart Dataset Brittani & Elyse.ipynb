{
 "cells": [
  {
   "cell_type": "code",
   "execution_count": 2,
   "metadata": {},
   "outputs": [],
   "source": [
    "import pandas as pd\n",
    "import numpy as np\n",
    "\n",
    "amazon = pd.read_csv('/Users/brittani.kauf/Downloads/09-19-Amazon-Ranking-Analysis.csv')"
   ]
  },
  {
   "cell_type": "code",
   "execution_count": 3,
   "metadata": {},
   "outputs": [
    {
     "data": {
      "text/html": [
       "<div>\n",
       "<style scoped>\n",
       "    .dataframe tbody tr th:only-of-type {\n",
       "        vertical-align: middle;\n",
       "    }\n",
       "\n",
       "    .dataframe tbody tr th {\n",
       "        vertical-align: top;\n",
       "    }\n",
       "\n",
       "    .dataframe thead th {\n",
       "        text-align: right;\n",
       "    }\n",
       "</style>\n",
       "<table border=\"1\" class=\"dataframe\">\n",
       "  <thead>\n",
       "    <tr style=\"text-align: right;\">\n",
       "      <th></th>\n",
       "      <th>Index</th>\n",
       "      <th>ProductName</th>\n",
       "      <th>ScrapeDate</th>\n",
       "      <th>ScrapedIndex</th>\n",
       "      <th>ScrapedIndexTrueRank</th>\n",
       "      <th>CorrectedIndexTrueRank</th>\n",
       "      <th>ScrapedIndexPrice</th>\n",
       "      <th>CorrectedPrice</th>\n",
       "      <th>ScrapedIndexVendor</th>\n",
       "      <th>ScrapedIndexVendorType</th>\n",
       "      <th>BBScrapedPrice</th>\n",
       "      <th>BBVendorType</th>\n",
       "      <th>BBVendor</th>\n",
       "      <th>BBCorrectedPrice</th>\n",
       "    </tr>\n",
       "  </thead>\n",
       "  <tbody>\n",
       "    <tr>\n",
       "      <th>0</th>\n",
       "      <td>0</td>\n",
       "      <td>#1 BEST Probiotic Supplement - 60 Day Supply w...</td>\n",
       "      <td>2016-06-14</td>\n",
       "      <td>2</td>\n",
       "      <td>2</td>\n",
       "      <td>1</td>\n",
       "      <td>20.99</td>\n",
       "      <td>20.99</td>\n",
       "      <td>Supplement Warriors</td>\n",
       "      <td>Other</td>\n",
       "      <td>-1.0</td>\n",
       "      <td>FBA</td>\n",
       "      <td>Sold by Sharp Nutrition and Fulfilled by Amazon.</td>\n",
       "      <td>25.02</td>\n",
       "    </tr>\n",
       "    <tr>\n",
       "      <th>1</th>\n",
       "      <td>1</td>\n",
       "      <td>#1 BEST Probiotic Supplement - 60 Day Supply w...</td>\n",
       "      <td>2016-06-14</td>\n",
       "      <td>1</td>\n",
       "      <td>1</td>\n",
       "      <td>2</td>\n",
       "      <td>19.99</td>\n",
       "      <td>25.02</td>\n",
       "      <td>Sharp Nutrition</td>\n",
       "      <td>FBA</td>\n",
       "      <td>-1.0</td>\n",
       "      <td>FBA</td>\n",
       "      <td>Sold by Sharp Nutrition and Fulfilled by Amazon.</td>\n",
       "      <td>25.02</td>\n",
       "    </tr>\n",
       "    <tr>\n",
       "      <th>2</th>\n",
       "      <td>2</td>\n",
       "      <td>10 Panel Dip Drug Testing Kit, Test for 10 Dif...</td>\n",
       "      <td>2016-06-27</td>\n",
       "      <td>1</td>\n",
       "      <td>1</td>\n",
       "      <td>1</td>\n",
       "      <td>3.96</td>\n",
       "      <td>3.96</td>\n",
       "      <td>speedy tests</td>\n",
       "      <td>Other</td>\n",
       "      <td>4.9</td>\n",
       "      <td>FBA</td>\n",
       "      <td>Sold by Michael Minyety and Fulfilled by Amazon.</td>\n",
       "      <td>9.97</td>\n",
       "    </tr>\n",
       "    <tr>\n",
       "      <th>3</th>\n",
       "      <td>3</td>\n",
       "      <td>10 Panel Dip Drug Testing Kit, Test for 10 Dif...</td>\n",
       "      <td>2016-06-27</td>\n",
       "      <td>2</td>\n",
       "      <td>1</td>\n",
       "      <td>1</td>\n",
       "      <td>3.96</td>\n",
       "      <td>3.96</td>\n",
       "      <td>Drug Abuse Control</td>\n",
       "      <td>Other</td>\n",
       "      <td>4.9</td>\n",
       "      <td>FBA</td>\n",
       "      <td>Sold by Michael Minyety and Fulfilled by Amazon.</td>\n",
       "      <td>9.97</td>\n",
       "    </tr>\n",
       "    <tr>\n",
       "      <th>4</th>\n",
       "      <td>4</td>\n",
       "      <td>10 Panel Dip Drug Testing Kit, Test for 10 Dif...</td>\n",
       "      <td>2016-06-27</td>\n",
       "      <td>3</td>\n",
       "      <td>1</td>\n",
       "      <td>1</td>\n",
       "      <td>3.96</td>\n",
       "      <td>3.96</td>\n",
       "      <td>Lowest Priced Tests</td>\n",
       "      <td>Other</td>\n",
       "      <td>4.9</td>\n",
       "      <td>FBA</td>\n",
       "      <td>Sold by Michael Minyety and Fulfilled by Amazon.</td>\n",
       "      <td>9.97</td>\n",
       "    </tr>\n",
       "  </tbody>\n",
       "</table>\n",
       "</div>"
      ],
      "text/plain": [
       "   Index                                        ProductName  ScrapeDate  \\\n",
       "0      0  #1 BEST Probiotic Supplement - 60 Day Supply w...  2016-06-14   \n",
       "1      1  #1 BEST Probiotic Supplement - 60 Day Supply w...  2016-06-14   \n",
       "2      2  10 Panel Dip Drug Testing Kit, Test for 10 Dif...  2016-06-27   \n",
       "3      3  10 Panel Dip Drug Testing Kit, Test for 10 Dif...  2016-06-27   \n",
       "4      4  10 Panel Dip Drug Testing Kit, Test for 10 Dif...  2016-06-27   \n",
       "\n",
       "   ScrapedIndex  ScrapedIndexTrueRank  CorrectedIndexTrueRank  \\\n",
       "0             2                     2                       1   \n",
       "1             1                     1                       2   \n",
       "2             1                     1                       1   \n",
       "3             2                     1                       1   \n",
       "4             3                     1                       1   \n",
       "\n",
       "   ScrapedIndexPrice  CorrectedPrice   ScrapedIndexVendor  \\\n",
       "0              20.99           20.99  Supplement Warriors   \n",
       "1              19.99           25.02      Sharp Nutrition   \n",
       "2               3.96            3.96         speedy tests   \n",
       "3               3.96            3.96   Drug Abuse Control   \n",
       "4               3.96            3.96  Lowest Priced Tests   \n",
       "\n",
       "  ScrapedIndexVendorType  BBScrapedPrice BBVendorType  \\\n",
       "0                  Other            -1.0          FBA   \n",
       "1                    FBA            -1.0          FBA   \n",
       "2                  Other             4.9          FBA   \n",
       "3                  Other             4.9          FBA   \n",
       "4                  Other             4.9          FBA   \n",
       "\n",
       "                                           BBVendor  BBCorrectedPrice  \n",
       "0  Sold by Sharp Nutrition and Fulfilled by Amazon.             25.02  \n",
       "1  Sold by Sharp Nutrition and Fulfilled by Amazon.             25.02  \n",
       "2  Sold by Michael Minyety and Fulfilled by Amazon.              9.97  \n",
       "3  Sold by Michael Minyety and Fulfilled by Amazon.              9.97  \n",
       "4  Sold by Michael Minyety and Fulfilled by Amazon.              9.97  "
      ]
     },
     "execution_count": 3,
     "metadata": {},
     "output_type": "execute_result"
    }
   ],
   "source": [
    "amazon.head()"
   ]
  },
  {
   "cell_type": "code",
   "execution_count": 4,
   "metadata": {},
   "outputs": [
    {
     "data": {
      "text/plain": [
       "Index                     6973\n",
       "ProductName               6973\n",
       "ScrapeDate                6973\n",
       "ScrapedIndex              6973\n",
       "ScrapedIndexTrueRank      6973\n",
       "CorrectedIndexTrueRank    6973\n",
       "ScrapedIndexPrice         6973\n",
       "CorrectedPrice            6973\n",
       "ScrapedIndexVendor        6973\n",
       "ScrapedIndexVendorType    6973\n",
       "BBScrapedPrice            6973\n",
       "BBVendorType              6973\n",
       "BBVendor                  6973\n",
       "BBCorrectedPrice          6973\n",
       "dtype: int64"
      ]
     },
     "execution_count": 4,
     "metadata": {},
     "output_type": "execute_result"
    }
   ],
   "source": [
    "amazon.isnull().count()"
   ]
  },
  {
   "cell_type": "code",
   "execution_count": 6,
   "metadata": {},
   "outputs": [
    {
     "data": {
      "text/plain": [
       "Index(['Index', 'ProductName', 'ScrapeDate', 'ScrapedIndex',\n",
       "       'ScrapedIndexTrueRank', 'CorrectedIndexTrueRank', 'ScrapedIndexPrice',\n",
       "       'CorrectedPrice', 'ScrapedIndexVendor', 'ScrapedIndexVendorType',\n",
       "       'BBScrapedPrice', 'BBVendorType', 'BBVendor', 'BBCorrectedPrice'],\n",
       "      dtype='object')"
      ]
     },
     "execution_count": 6,
     "metadata": {},
     "output_type": "execute_result"
    }
   ],
   "source": [
    "amazon.columns"
   ]
  },
  {
   "cell_type": "code",
   "execution_count": null,
   "metadata": {},
   "outputs": [],
   "source": []
  }
 ],
 "metadata": {
  "kernelspec": {
   "display_name": "Python 3",
   "language": "python",
   "name": "python3"
  },
  "language_info": {
   "codemirror_mode": {
    "name": "ipython",
    "version": 3
   },
   "file_extension": ".py",
   "mimetype": "text/x-python",
   "name": "python",
   "nbconvert_exporter": "python",
   "pygments_lexer": "ipython3",
   "version": "3.7.3"
  }
 },
 "nbformat": 4,
 "nbformat_minor": 2
}
